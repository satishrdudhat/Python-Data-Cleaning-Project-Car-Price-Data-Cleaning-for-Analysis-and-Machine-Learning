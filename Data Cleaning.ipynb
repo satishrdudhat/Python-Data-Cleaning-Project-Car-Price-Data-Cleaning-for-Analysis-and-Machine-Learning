{
 "cells": [
  {
   "cell_type": "code",
   "execution_count": 136,
   "id": "c53510b5-1a03-46b0-8e71-ae026a8c7937",
   "metadata": {},
   "outputs": [],
   "source": [
    "import pandas as pd\n",
    "import matplotlib.pyplot as plt\n",
    "import seaborn as sns\n",
    "import numpy as np"
   ]
  },
  {
   "cell_type": "code",
   "execution_count": 138,
   "id": "0ebcdb70-89c7-4647-9685-b49374e24023",
   "metadata": {},
   "outputs": [],
   "source": [
    "#load data\n",
    "dataset = pd.read_csv('car_price.csv')"
   ]
  },
  {
   "cell_type": "code",
   "execution_count": 140,
   "id": "1197a2d0-8918-4ff4-a07f-1512086c09e0",
   "metadata": {},
   "outputs": [
    {
     "data": {
      "text/plain": [
       "(5512, 11)"
      ]
     },
     "execution_count": 140,
     "metadata": {},
     "output_type": "execute_result"
    }
   ],
   "source": [
    "#check total records \n",
    "dataset.shape"
   ]
  },
  {
   "cell_type": "code",
   "execution_count": 142,
   "id": "e11fcb09-00b1-47e3-b2b3-ae3f2ed2f53a",
   "metadata": {},
   "outputs": [
    {
     "data": {
      "text/html": [
       "<div>\n",
       "<style scoped>\n",
       "    .dataframe tbody tr th:only-of-type {\n",
       "        vertical-align: middle;\n",
       "    }\n",
       "\n",
       "    .dataframe tbody tr th {\n",
       "        vertical-align: top;\n",
       "    }\n",
       "\n",
       "    .dataframe thead th {\n",
       "        text-align: right;\n",
       "    }\n",
       "</style>\n",
       "<table border=\"1\" class=\"dataframe\">\n",
       "  <thead>\n",
       "    <tr style=\"text-align: right;\">\n",
       "      <th></th>\n",
       "      <th>No</th>\n",
       "      <th>car_name</th>\n",
       "      <th>car_prices_in_rupee</th>\n",
       "      <th>kms_driven</th>\n",
       "      <th>fuel_type</th>\n",
       "      <th>transmission</th>\n",
       "      <th>ownership</th>\n",
       "      <th>manufacture</th>\n",
       "      <th>engine</th>\n",
       "      <th>Seats</th>\n",
       "      <th>Manufacture Date</th>\n",
       "    </tr>\n",
       "  </thead>\n",
       "  <tbody>\n",
       "    <tr>\n",
       "      <th>0</th>\n",
       "      <td>0</td>\n",
       "      <td>Jeep Compass 2.0 Longitude Option BSIV</td>\n",
       "      <td>10.03 Lakh</td>\n",
       "      <td>86,226 kms</td>\n",
       "      <td>Diesel</td>\n",
       "      <td>Manual</td>\n",
       "      <td>1st Owner</td>\n",
       "      <td>2017</td>\n",
       "      <td>1956 cc</td>\n",
       "      <td>5 Seats</td>\n",
       "      <td>July 23, 2017</td>\n",
       "    </tr>\n",
       "    <tr>\n",
       "      <th>1</th>\n",
       "      <td>1</td>\n",
       "      <td>Renault Duster RXZ Turbo CVT</td>\n",
       "      <td>12.83 Lakh</td>\n",
       "      <td>13,248 kms</td>\n",
       "      <td>Petrol</td>\n",
       "      <td>Automatic</td>\n",
       "      <td>1st Owner</td>\n",
       "      <td>2021</td>\n",
       "      <td>1330 cc</td>\n",
       "      <td>5 Seats</td>\n",
       "      <td>March 03, 2021</td>\n",
       "    </tr>\n",
       "    <tr>\n",
       "      <th>2</th>\n",
       "      <td>2</td>\n",
       "      <td>Toyota Camry 2.5 G</td>\n",
       "      <td>16.40 Lakh</td>\n",
       "      <td>60,343 kms</td>\n",
       "      <td>Petrol</td>\n",
       "      <td>Automatic</td>\n",
       "      <td>1st Owner</td>\n",
       "      <td>2016</td>\n",
       "      <td>2494 cc</td>\n",
       "      <td>5 Seats</td>\n",
       "      <td>October 11, 2016</td>\n",
       "    </tr>\n",
       "  </tbody>\n",
       "</table>\n",
       "</div>"
      ],
      "text/plain": [
       "   No                                car_name car_prices_in_rupee  kms_driven  \\\n",
       "0   0  Jeep Compass 2.0 Longitude Option BSIV          10.03 Lakh  86,226 kms   \n",
       "1   1            Renault Duster RXZ Turbo CVT          12.83 Lakh  13,248 kms   \n",
       "2   2                      Toyota Camry 2.5 G          16.40 Lakh  60,343 kms   \n",
       "\n",
       "  fuel_type transmission  ownership  manufacture   engine    Seats  \\\n",
       "0    Diesel       Manual  1st Owner         2017  1956 cc  5 Seats   \n",
       "1    Petrol    Automatic  1st Owner         2021  1330 cc  5 Seats   \n",
       "2    Petrol    Automatic  1st Owner         2016  2494 cc  5 Seats   \n",
       "\n",
       "   Manufacture Date  \n",
       "0     July 23, 2017  \n",
       "1    March 03, 2021  \n",
       "2  October 11, 2016  "
      ]
     },
     "execution_count": 142,
     "metadata": {},
     "output_type": "execute_result"
    }
   ],
   "source": [
    "dataset.head(3)"
   ]
  },
  {
   "cell_type": "code",
   "execution_count": 144,
   "id": "37815f8f-1a5d-4af5-a4bc-3012dc71a515",
   "metadata": {},
   "outputs": [
    {
     "name": "stdout",
     "output_type": "stream",
     "text": [
      "<class 'pandas.core.frame.DataFrame'>\n",
      "RangeIndex: 5512 entries, 0 to 5511\n",
      "Data columns (total 11 columns):\n",
      " #   Column               Non-Null Count  Dtype \n",
      "---  ------               --------------  ----- \n",
      " 0   No                   5512 non-null   int64 \n",
      " 1   car_name             5512 non-null   object\n",
      " 2   car_prices_in_rupee  5512 non-null   object\n",
      " 3   kms_driven           5512 non-null   object\n",
      " 4   fuel_type            5512 non-null   object\n",
      " 5   transmission         5512 non-null   object\n",
      " 6   ownership            5512 non-null   object\n",
      " 7   manufacture          5512 non-null   int64 \n",
      " 8   engine               5512 non-null   object\n",
      " 9   Seats                5512 non-null   object\n",
      " 10  Manufacture Date     5512 non-null   object\n",
      "dtypes: int64(2), object(9)\n",
      "memory usage: 473.8+ KB\n"
     ]
    }
   ],
   "source": [
    "#Check Data type ALL COLUMN IN DATASETS\n",
    "dataset.info()"
   ]
  },
  {
   "cell_type": "code",
   "execution_count": 146,
   "id": "d6b36ae3-ff8f-4fcd-afbb-94113e5293fa",
   "metadata": {},
   "outputs": [
    {
     "data": {
      "text/plain": [
       "No                     0\n",
       "car_name               0\n",
       "car_prices_in_rupee    0\n",
       "kms_driven             0\n",
       "fuel_type              0\n",
       "transmission           0\n",
       "ownership              0\n",
       "manufacture            0\n",
       "engine                 0\n",
       "Seats                  0\n",
       "Manufacture Date       0\n",
       "dtype: int64"
      ]
     },
     "execution_count": 146,
     "metadata": {},
     "output_type": "execute_result"
    }
   ],
   "source": [
    "#Check Total missing value in dataset\n",
    "dataset.isnull().sum()"
   ]
  },
  {
   "cell_type": "code",
   "execution_count": 148,
   "id": "200f795a-5e29-46ea-8c6f-2d7f9dcc9aa5",
   "metadata": {},
   "outputs": [
    {
     "data": {
      "text/plain": [
       "No                     0.0\n",
       "car_name               0.0\n",
       "car_prices_in_rupee    0.0\n",
       "kms_driven             0.0\n",
       "fuel_type              0.0\n",
       "transmission           0.0\n",
       "ownership              0.0\n",
       "manufacture            0.0\n",
       "engine                 0.0\n",
       "Seats                  0.0\n",
       "Manufacture Date       0.0\n",
       "dtype: float64"
      ]
     },
     "execution_count": 148,
     "metadata": {},
     "output_type": "execute_result"
    }
   ],
   "source": [
    "#Check missing value % in dataset\n",
    "(dataset.isnull().sum()/dataset.shape[0])*100"
   ]
  },
  {
   "cell_type": "code",
   "execution_count": 150,
   "id": "770fb847-1a49-4bdf-a819-04ef2c2e96de",
   "metadata": {},
   "outputs": [],
   "source": [
    "#remove all missing values in dataset\n",
    "dataset.dropna(inplace=True)"
   ]
  },
  {
   "cell_type": "code",
   "execution_count": 152,
   "id": "5c93e4be-2089-414d-a856-116d89b58010",
   "metadata": {},
   "outputs": [
    {
     "data": {
      "text/plain": [
       "No                     0.0\n",
       "car_name               0.0\n",
       "car_prices_in_rupee    0.0\n",
       "kms_driven             0.0\n",
       "fuel_type              0.0\n",
       "transmission           0.0\n",
       "ownership              0.0\n",
       "manufacture            0.0\n",
       "engine                 0.0\n",
       "Seats                  0.0\n",
       "Manufacture Date       0.0\n",
       "dtype: float64"
      ]
     },
     "execution_count": 152,
     "metadata": {},
     "output_type": "execute_result"
    }
   ],
   "source": [
    "#After removeing Check missing value % in dataset\n",
    "(dataset.isnull().sum()/dataset.shape[0])*100"
   ]
  },
  {
   "cell_type": "markdown",
   "id": "32297705-bedd-42a1-8977-08a3ac4ce7e2",
   "metadata": {},
   "source": [
    "# Car Name"
   ]
  },
  {
   "cell_type": "code",
   "execution_count": 31,
   "id": "2c809a64-0185-4b19-b8de-8adcead71634",
   "metadata": {},
   "outputs": [
    {
     "data": {
      "text/plain": [
       "'Jeep'"
      ]
     },
     "execution_count": 31,
     "metadata": {},
     "output_type": "execute_result"
    }
   ],
   "source": [
    "# x = dataset['car_name'][0]\n",
    "# x[:x.index(\" \")]"
   ]
  },
  {
   "cell_type": "code",
   "execution_count": 154,
   "id": "41adb03f-b3cd-41b1-a873-50bb353ea3bb",
   "metadata": {},
   "outputs": [],
   "source": [
    "# Split Car Company Name \n",
    "def company_name(x):\n",
    "    return x[:x.index(\" \")]"
   ]
  },
  {
   "cell_type": "code",
   "execution_count": 156,
   "id": "c608d805-91ac-405e-8290-b2e66ce21fda",
   "metadata": {},
   "outputs": [
    {
     "data": {
      "text/plain": [
       "0             Jeep\n",
       "1          Renault\n",
       "2           Toyota\n",
       "3            Honda\n",
       "4       Volkswagen\n",
       "           ...    \n",
       "5507           BMW\n",
       "5508           BMW\n",
       "5509        Jaguar\n",
       "5510           BMW\n",
       "5511           BMW\n",
       "Name: car_name, Length: 5512, dtype: object"
      ]
     },
     "execution_count": 156,
     "metadata": {},
     "output_type": "execute_result"
    }
   ],
   "source": [
    "dataset['car_name'].apply(company_name)"
   ]
  },
  {
   "cell_type": "code",
   "execution_count": 158,
   "id": "06f51cb1-dabb-4d6f-bd5a-33e12f82ab13",
   "metadata": {},
   "outputs": [],
   "source": [
    "#create a new Column car_company_name\n",
    "dataset['car_company_name'] = dataset['car_name'].apply(company_name)"
   ]
  },
  {
   "cell_type": "code",
   "execution_count": 160,
   "id": "959c96cd-0720-452a-b62d-567d9da3c805",
   "metadata": {},
   "outputs": [
    {
     "name": "stdout",
     "output_type": "stream",
     "text": [
      "<class 'pandas.core.frame.DataFrame'>\n",
      "RangeIndex: 5512 entries, 0 to 5511\n",
      "Data columns (total 12 columns):\n",
      " #   Column               Non-Null Count  Dtype \n",
      "---  ------               --------------  ----- \n",
      " 0   No                   5512 non-null   int64 \n",
      " 1   car_name             5512 non-null   object\n",
      " 2   car_prices_in_rupee  5512 non-null   object\n",
      " 3   kms_driven           5512 non-null   object\n",
      " 4   fuel_type            5512 non-null   object\n",
      " 5   transmission         5512 non-null   object\n",
      " 6   ownership            5512 non-null   object\n",
      " 7   manufacture          5512 non-null   int64 \n",
      " 8   engine               5512 non-null   object\n",
      " 9   Seats                5512 non-null   object\n",
      " 10  Manufacture Date     5512 non-null   object\n",
      " 11  car_company_name     5512 non-null   object\n",
      "dtypes: int64(2), object(10)\n",
      "memory usage: 516.9+ KB\n"
     ]
    }
   ],
   "source": [
    "dataset.info()"
   ]
  },
  {
   "cell_type": "code",
   "execution_count": 162,
   "id": "8e097250-151e-4e8d-9da7-b7da8d8394ea",
   "metadata": {},
   "outputs": [
    {
     "data": {
      "text/html": [
       "<div>\n",
       "<style scoped>\n",
       "    .dataframe tbody tr th:only-of-type {\n",
       "        vertical-align: middle;\n",
       "    }\n",
       "\n",
       "    .dataframe tbody tr th {\n",
       "        vertical-align: top;\n",
       "    }\n",
       "\n",
       "    .dataframe thead th {\n",
       "        text-align: right;\n",
       "    }\n",
       "</style>\n",
       "<table border=\"1\" class=\"dataframe\">\n",
       "  <thead>\n",
       "    <tr style=\"text-align: right;\">\n",
       "      <th></th>\n",
       "      <th>No</th>\n",
       "      <th>car_name</th>\n",
       "      <th>car_prices_in_rupee</th>\n",
       "      <th>kms_driven</th>\n",
       "      <th>fuel_type</th>\n",
       "      <th>transmission</th>\n",
       "      <th>ownership</th>\n",
       "      <th>manufacture</th>\n",
       "      <th>engine</th>\n",
       "      <th>Seats</th>\n",
       "      <th>Manufacture Date</th>\n",
       "      <th>car_company_name</th>\n",
       "    </tr>\n",
       "  </thead>\n",
       "  <tbody>\n",
       "    <tr>\n",
       "      <th>0</th>\n",
       "      <td>0</td>\n",
       "      <td>Jeep Compass 2.0 Longitude Option BSIV</td>\n",
       "      <td>10.03 Lakh</td>\n",
       "      <td>86,226 kms</td>\n",
       "      <td>Diesel</td>\n",
       "      <td>Manual</td>\n",
       "      <td>1st Owner</td>\n",
       "      <td>2017</td>\n",
       "      <td>1956 cc</td>\n",
       "      <td>5 Seats</td>\n",
       "      <td>July 23, 2017</td>\n",
       "      <td>Jeep</td>\n",
       "    </tr>\n",
       "    <tr>\n",
       "      <th>1</th>\n",
       "      <td>1</td>\n",
       "      <td>Renault Duster RXZ Turbo CVT</td>\n",
       "      <td>12.83 Lakh</td>\n",
       "      <td>13,248 kms</td>\n",
       "      <td>Petrol</td>\n",
       "      <td>Automatic</td>\n",
       "      <td>1st Owner</td>\n",
       "      <td>2021</td>\n",
       "      <td>1330 cc</td>\n",
       "      <td>5 Seats</td>\n",
       "      <td>March 03, 2021</td>\n",
       "      <td>Renault</td>\n",
       "    </tr>\n",
       "  </tbody>\n",
       "</table>\n",
       "</div>"
      ],
      "text/plain": [
       "   No                                car_name car_prices_in_rupee  kms_driven  \\\n",
       "0   0  Jeep Compass 2.0 Longitude Option BSIV          10.03 Lakh  86,226 kms   \n",
       "1   1            Renault Duster RXZ Turbo CVT          12.83 Lakh  13,248 kms   \n",
       "\n",
       "  fuel_type transmission  ownership  manufacture   engine    Seats  \\\n",
       "0    Diesel       Manual  1st Owner         2017  1956 cc  5 Seats   \n",
       "1    Petrol    Automatic  1st Owner         2021  1330 cc  5 Seats   \n",
       "\n",
       "  Manufacture Date car_company_name  \n",
       "0    July 23, 2017             Jeep  \n",
       "1   March 03, 2021          Renault  "
      ]
     },
     "execution_count": 162,
     "metadata": {},
     "output_type": "execute_result"
    }
   ],
   "source": [
    "dataset.head(2)"
   ]
  },
  {
   "cell_type": "code",
   "execution_count": 164,
   "id": "3aca3725-d5e2-4597-a418-da977a9ae3bf",
   "metadata": {},
   "outputs": [],
   "source": [
    "# Split Car Name \n",
    "def car_name(x):\n",
    "    return x[x.index(\" \")+1:]"
   ]
  },
  {
   "cell_type": "code",
   "execution_count": 166,
   "id": "b1f7c022-fdbe-4ca3-a02a-3fed9e3e1705",
   "metadata": {},
   "outputs": [
    {
     "data": {
      "text/plain": [
       "0       Compass 2.0 Longitude Option BSIV\n",
       "1                    Duster RXZ Turbo CVT\n",
       "2                             Camry 2.5 G\n",
       "3                             Jazz VX CVT\n",
       "4                   Polo 1.2 MPI Highline\n",
       "                      ...                \n",
       "5507                  X1 sDrive 20d xLine\n",
       "5508                    M Series M4 Coupe\n",
       "5509                  XF 2.2 Litre Luxury\n",
       "5510                       7 Series 730Ld\n",
       "5511                5 Series 520d M Sport\n",
       "Name: car_name, Length: 5512, dtype: object"
      ]
     },
     "execution_count": 166,
     "metadata": {},
     "output_type": "execute_result"
    }
   ],
   "source": [
    "dataset['car_name'].apply(car_name)"
   ]
  },
  {
   "cell_type": "code",
   "execution_count": 168,
   "id": "466fc097-241d-4e1e-9fec-1dffd68dd3fc",
   "metadata": {},
   "outputs": [],
   "source": [
    "#create a new column car_name \n",
    "dataset['car_name'] = dataset['car_name'].apply(car_name)"
   ]
  },
  {
   "cell_type": "code",
   "execution_count": 170,
   "id": "9848f911-93ae-47ad-a8c2-fea5a809def3",
   "metadata": {},
   "outputs": [
    {
     "name": "stdout",
     "output_type": "stream",
     "text": [
      "<class 'pandas.core.frame.DataFrame'>\n",
      "RangeIndex: 5512 entries, 0 to 5511\n",
      "Data columns (total 12 columns):\n",
      " #   Column               Non-Null Count  Dtype \n",
      "---  ------               --------------  ----- \n",
      " 0   No                   5512 non-null   int64 \n",
      " 1   car_name             5512 non-null   object\n",
      " 2   car_prices_in_rupee  5512 non-null   object\n",
      " 3   kms_driven           5512 non-null   object\n",
      " 4   fuel_type            5512 non-null   object\n",
      " 5   transmission         5512 non-null   object\n",
      " 6   ownership            5512 non-null   object\n",
      " 7   manufacture          5512 non-null   int64 \n",
      " 8   engine               5512 non-null   object\n",
      " 9   Seats                5512 non-null   object\n",
      " 10  Manufacture Date     5512 non-null   object\n",
      " 11  car_company_name     5512 non-null   object\n",
      "dtypes: int64(2), object(10)\n",
      "memory usage: 516.9+ KB\n"
     ]
    }
   ],
   "source": [
    "dataset.info()"
   ]
  },
  {
   "cell_type": "code",
   "execution_count": 172,
   "id": "99496261-70ea-4309-a15d-7db66fbd9a53",
   "metadata": {},
   "outputs": [
    {
     "data": {
      "text/html": [
       "<div>\n",
       "<style scoped>\n",
       "    .dataframe tbody tr th:only-of-type {\n",
       "        vertical-align: middle;\n",
       "    }\n",
       "\n",
       "    .dataframe tbody tr th {\n",
       "        vertical-align: top;\n",
       "    }\n",
       "\n",
       "    .dataframe thead th {\n",
       "        text-align: right;\n",
       "    }\n",
       "</style>\n",
       "<table border=\"1\" class=\"dataframe\">\n",
       "  <thead>\n",
       "    <tr style=\"text-align: right;\">\n",
       "      <th></th>\n",
       "      <th>No</th>\n",
       "      <th>car_name</th>\n",
       "      <th>car_prices_in_rupee</th>\n",
       "      <th>kms_driven</th>\n",
       "      <th>fuel_type</th>\n",
       "      <th>transmission</th>\n",
       "      <th>ownership</th>\n",
       "      <th>manufacture</th>\n",
       "      <th>engine</th>\n",
       "      <th>Seats</th>\n",
       "      <th>Manufacture Date</th>\n",
       "      <th>car_company_name</th>\n",
       "    </tr>\n",
       "  </thead>\n",
       "  <tbody>\n",
       "    <tr>\n",
       "      <th>0</th>\n",
       "      <td>0</td>\n",
       "      <td>Compass 2.0 Longitude Option BSIV</td>\n",
       "      <td>10.03 Lakh</td>\n",
       "      <td>86,226 kms</td>\n",
       "      <td>Diesel</td>\n",
       "      <td>Manual</td>\n",
       "      <td>1st Owner</td>\n",
       "      <td>2017</td>\n",
       "      <td>1956 cc</td>\n",
       "      <td>5 Seats</td>\n",
       "      <td>July 23, 2017</td>\n",
       "      <td>Jeep</td>\n",
       "    </tr>\n",
       "    <tr>\n",
       "      <th>1</th>\n",
       "      <td>1</td>\n",
       "      <td>Duster RXZ Turbo CVT</td>\n",
       "      <td>12.83 Lakh</td>\n",
       "      <td>13,248 kms</td>\n",
       "      <td>Petrol</td>\n",
       "      <td>Automatic</td>\n",
       "      <td>1st Owner</td>\n",
       "      <td>2021</td>\n",
       "      <td>1330 cc</td>\n",
       "      <td>5 Seats</td>\n",
       "      <td>March 03, 2021</td>\n",
       "      <td>Renault</td>\n",
       "    </tr>\n",
       "  </tbody>\n",
       "</table>\n",
       "</div>"
      ],
      "text/plain": [
       "   No                           car_name car_prices_in_rupee  kms_driven  \\\n",
       "0   0  Compass 2.0 Longitude Option BSIV          10.03 Lakh  86,226 kms   \n",
       "1   1               Duster RXZ Turbo CVT          12.83 Lakh  13,248 kms   \n",
       "\n",
       "  fuel_type transmission  ownership  manufacture   engine    Seats  \\\n",
       "0    Diesel       Manual  1st Owner         2017  1956 cc  5 Seats   \n",
       "1    Petrol    Automatic  1st Owner         2021  1330 cc  5 Seats   \n",
       "\n",
       "  Manufacture Date car_company_name  \n",
       "0    July 23, 2017             Jeep  \n",
       "1   March 03, 2021          Renault  "
      ]
     },
     "execution_count": 172,
     "metadata": {},
     "output_type": "execute_result"
    }
   ],
   "source": [
    "dataset.head(2)"
   ]
  },
  {
   "cell_type": "markdown",
   "id": "463764f7-1ad7-4bf2-8675-f0e8a932365f",
   "metadata": {},
   "source": [
    "# car_prices_in_rupee"
   ]
  },
  {
   "cell_type": "code",
   "execution_count": 174,
   "id": "09f27089-7b6e-4661-a408-698e3c1d998c",
   "metadata": {},
   "outputs": [
    {
     "data": {
      "text/plain": [
       "0       10.03 Lakh\n",
       "1       12.83 Lakh\n",
       "2       16.40 Lakh\n",
       "3        7.77 Lakh\n",
       "4        5.15 Lakh\n",
       "           ...    \n",
       "5507    28.90 Lakh\n",
       "5508    64.90 Lakh\n",
       "5509    13.75 Lakh\n",
       "5510    29.90 Lakh\n",
       "5511    31.90 Lakh\n",
       "Name: car_prices_in_rupee, Length: 5512, dtype: object"
      ]
     },
     "execution_count": 174,
     "metadata": {},
     "output_type": "execute_result"
    }
   ],
   "source": [
    "dataset[\"car_prices_in_rupee\"]"
   ]
  },
  {
   "cell_type": "code",
   "execution_count": 176,
   "id": "c845da21-62e6-4b5d-b86f-eea6266f5540",
   "metadata": {},
   "outputs": [],
   "source": [
    "dataset[\"car_prices_in_rupee\"] = dataset[\"car_prices_in_rupee\"].str.replace(\",\",\"\")"
   ]
  },
  {
   "cell_type": "code",
   "execution_count": 43,
   "id": "62f04fd0-8137-4b44-a95a-64f6ff278aa7",
   "metadata": {},
   "outputs": [],
   "source": [
    "def rupe_change(x):\n",
    "    p = x.split(\" \")\n",
    "    try :\n",
    "        if p[1] == \"Lakh\" :\n",
    "            return str(round(float(p[0])*100000,1))\n",
    "        elif p[1] == \"Crore\" :\n",
    "            return str(round(float(p[0])*10000000,1))\n",
    "    except :\n",
    "        return x"
   ]
  },
  {
   "cell_type": "code",
   "execution_count": 178,
   "id": "5cfda02a-1278-4f93-9fa7-11073ff1d4e2",
   "metadata": {},
   "outputs": [
    {
     "data": {
      "text/plain": [
       "0       1003000.0\n",
       "1       1283000.0\n",
       "2       1640000.0\n",
       "3        777000.0\n",
       "4        515000.0\n",
       "          ...    \n",
       "5507    2890000.0\n",
       "5508    6490000.0\n",
       "5509    1375000.0\n",
       "5510    2990000.0\n",
       "5511    3190000.0\n",
       "Name: car_prices_in_rupee, Length: 5512, dtype: object"
      ]
     },
     "execution_count": 178,
     "metadata": {},
     "output_type": "execute_result"
    }
   ],
   "source": [
    "dataset[\"car_prices_in_rupee\"].apply(rupe_change)"
   ]
  },
  {
   "cell_type": "code",
   "execution_count": 180,
   "id": "b9026b7c-a77c-4c1b-930a-9460b00c7458",
   "metadata": {},
   "outputs": [],
   "source": [
    "#apply \n",
    "dataset[\"car_prices_in_rupee\"] = dataset[\"car_prices_in_rupee\"].apply(rupe_change)"
   ]
  },
  {
   "cell_type": "code",
   "execution_count": 182,
   "id": "acd550d8-0dbd-46d5-aac2-ba35e7c64955",
   "metadata": {},
   "outputs": [],
   "source": [
    "#change datatype\n",
    "dataset[\"car_prices_in_rupee\"] = dataset[\"car_prices_in_rupee\"].astype(\"float64\")"
   ]
  },
  {
   "cell_type": "code",
   "execution_count": 184,
   "id": "6749050c-6a2e-4519-8fa9-cfcf6f8357a3",
   "metadata": {},
   "outputs": [
    {
     "name": "stdout",
     "output_type": "stream",
     "text": [
      "<class 'pandas.core.frame.DataFrame'>\n",
      "RangeIndex: 5512 entries, 0 to 5511\n",
      "Data columns (total 12 columns):\n",
      " #   Column               Non-Null Count  Dtype  \n",
      "---  ------               --------------  -----  \n",
      " 0   No                   5512 non-null   int64  \n",
      " 1   car_name             5512 non-null   object \n",
      " 2   car_prices_in_rupee  5512 non-null   float64\n",
      " 3   kms_driven           5512 non-null   object \n",
      " 4   fuel_type            5512 non-null   object \n",
      " 5   transmission         5512 non-null   object \n",
      " 6   ownership            5512 non-null   object \n",
      " 7   manufacture          5512 non-null   int64  \n",
      " 8   engine               5512 non-null   object \n",
      " 9   Seats                5512 non-null   object \n",
      " 10  Manufacture Date     5512 non-null   object \n",
      " 11  car_company_name     5512 non-null   object \n",
      "dtypes: float64(1), int64(2), object(9)\n",
      "memory usage: 516.9+ KB\n"
     ]
    }
   ],
   "source": [
    "dataset.info()"
   ]
  },
  {
   "cell_type": "code",
   "execution_count": 186,
   "id": "9b0bb691-12e1-4c5f-9f62-d76dd05018d6",
   "metadata": {},
   "outputs": [
    {
     "data": {
      "text/plain": [
       "['28.90', 'Lakh']"
      ]
     },
     "execution_count": 186,
     "metadata": {},
     "output_type": "execute_result"
    }
   ],
   "source": [
    "l = \"28.90 Lakh\"\n",
    "a = l.split(\" \")\n",
    "a"
   ]
  },
  {
   "cell_type": "code",
   "execution_count": 188,
   "id": "5f46dd8f-317b-4ac4-85e6-946370d73332",
   "metadata": {},
   "outputs": [
    {
     "data": {
      "text/plain": [
       "2890000.0"
      ]
     },
     "execution_count": 188,
     "metadata": {},
     "output_type": "execute_result"
    }
   ],
   "source": [
    "round(float(a[0])*100000,1)"
   ]
  },
  {
   "cell_type": "markdown",
   "id": "405dec65-c75a-4112-860e-854610bd0758",
   "metadata": {},
   "source": [
    "# kms_driven"
   ]
  },
  {
   "cell_type": "code",
   "execution_count": 190,
   "id": "788d7c6a-ae4b-41cf-a0f8-d3311d026b05",
   "metadata": {},
   "outputs": [
    {
     "data": {
      "text/plain": [
       "0       86,226 kms\n",
       "1       13,248 kms\n",
       "2       60,343 kms\n",
       "3       26,696 kms\n",
       "4       69,414 kms\n",
       "           ...    \n",
       "5507    45,000 kms\n",
       "5508    29,000 kms\n",
       "5509    90,000 kms\n",
       "5510    79,000 kms\n",
       "5511    42,000 kms\n",
       "Name: kms_driven, Length: 5512, dtype: object"
      ]
     },
     "execution_count": 190,
     "metadata": {},
     "output_type": "execute_result"
    }
   ],
   "source": [
    "dataset[\"kms_driven\"]"
   ]
  },
  {
   "cell_type": "code",
   "execution_count": 192,
   "id": "555e0c4c-50a9-4ad8-b1e7-306c90aaa243",
   "metadata": {},
   "outputs": [],
   "source": [
    "#replace value \",\" and \" kms\" with \"\" \n",
    "dataset[\"kms_driven\"] = dataset[\"kms_driven\"].str.replace(\",\",\"\")\n",
    "dataset[\"kms_driven\"] = dataset[\"kms_driven\"].str.replace(\" kms\",\"\")"
   ]
  },
  {
   "cell_type": "code",
   "execution_count": 194,
   "id": "d74254a9-d094-42d2-88d5-27cd70c773d2",
   "metadata": {},
   "outputs": [],
   "source": [
    "#change datatype \n",
    "dataset[\"kms_driven\"] = dataset[\"kms_driven\"].astype(\"int64\")"
   ]
  },
  {
   "cell_type": "markdown",
   "id": "6f48ce74-4b57-43f9-b530-003ffb3db4bc",
   "metadata": {},
   "source": [
    "# engine"
   ]
  },
  {
   "cell_type": "code",
   "execution_count": 196,
   "id": "ce5fa595-2c26-4d76-9f4c-d686a540431c",
   "metadata": {},
   "outputs": [
    {
     "data": {
      "text/plain": [
       "0       1956 cc\n",
       "1       1330 cc\n",
       "2       2494 cc\n",
       "3       1199 cc\n",
       "4       1199 cc\n",
       "         ...   \n",
       "5507    2995 cc\n",
       "5508    1968 cc\n",
       "5509    2755 cc\n",
       "5510    2967 cc\n",
       "5511    1991 cc\n",
       "Name: engine, Length: 5512, dtype: object"
      ]
     },
     "execution_count": 196,
     "metadata": {},
     "output_type": "execute_result"
    }
   ],
   "source": [
    "dataset[\"engine\"]"
   ]
  },
  {
   "cell_type": "code",
   "execution_count": 198,
   "id": "5dcdfb3f-3835-4f9f-9788-11327f371e9c",
   "metadata": {},
   "outputs": [],
   "source": [
    "#replace value \" cc\" with \"\" \n",
    "dataset[\"engine\"] = dataset[\"engine\"].str.replace(\" cc\",\"\")"
   ]
  },
  {
   "cell_type": "code",
   "execution_count": 200,
   "id": "311619d1-d43e-4d11-8935-fbe0ae53ae57",
   "metadata": {},
   "outputs": [],
   "source": [
    "#change datatype \n",
    "dataset[\"engine\"] = dataset[\"engine\"].astype(\"int64\")"
   ]
  },
  {
   "cell_type": "markdown",
   "id": "17f478e2-e7b3-48b4-a827-0b38e49e152d",
   "metadata": {},
   "source": [
    "# Seats"
   ]
  },
  {
   "cell_type": "code",
   "execution_count": 202,
   "id": "568ac31e-a372-4fa1-80e5-61e332204b3b",
   "metadata": {},
   "outputs": [
    {
     "data": {
      "text/plain": [
       "0       5 Seats\n",
       "1       5 Seats\n",
       "2       5 Seats\n",
       "3       5 Seats\n",
       "4       5 Seats\n",
       "         ...   \n",
       "5507    7 Seats\n",
       "5508    5 Seats\n",
       "5509    5 Seats\n",
       "5510    6 Seats\n",
       "5511    5 Seats\n",
       "Name: Seats, Length: 5512, dtype: object"
      ]
     },
     "execution_count": 202,
     "metadata": {},
     "output_type": "execute_result"
    }
   ],
   "source": [
    "dataset[\"Seats\"]"
   ]
  },
  {
   "cell_type": "code",
   "execution_count": 204,
   "id": "2f57857b-a29a-4bb7-96ac-a43a6597231b",
   "metadata": {},
   "outputs": [],
   "source": [
    "#replace value \" Seats\" with \"\" \n",
    "dataset[\"Seats\"] = dataset[\"Seats\"].str.replace(\" Seats\",\"\")"
   ]
  },
  {
   "cell_type": "code",
   "execution_count": 206,
   "id": "7ed218f6-1c45-4612-850e-05739b9ee544",
   "metadata": {},
   "outputs": [],
   "source": [
    "#change datatype \n",
    "dataset[\"Seats\"] = dataset[\"Seats\"].astype(\"int64\")"
   ]
  },
  {
   "cell_type": "markdown",
   "id": "5af1b8ce-2c3b-4fd7-a1e4-b35e3b61fa5e",
   "metadata": {},
   "source": [
    "# Manufacture Date"
   ]
  },
  {
   "cell_type": "code",
   "execution_count": 208,
   "id": "6a603379-028f-4a2c-863b-81fcc19fa975",
   "metadata": {},
   "outputs": [
    {
     "data": {
      "text/plain": [
       "0      2017-07-23\n",
       "1      2021-03-03\n",
       "2      2016-10-11\n",
       "3      2018-04-26\n",
       "4      2016-09-15\n",
       "          ...    \n",
       "5507   2018-02-26\n",
       "5508   2015-04-13\n",
       "5509   2013-12-12\n",
       "5510   2015-05-07\n",
       "5511   2017-05-15\n",
       "Name: Manufacture Date, Length: 5512, dtype: datetime64[ns]"
      ]
     },
     "execution_count": 208,
     "metadata": {},
     "output_type": "execute_result"
    }
   ],
   "source": [
    "#convert datetime format\n",
    "pd.to_datetime(dataset[\"Manufacture Date\"])"
   ]
  },
  {
   "cell_type": "code",
   "execution_count": 210,
   "id": "7d3d4d7e-73b9-428a-86de-9a81cb1283cf",
   "metadata": {},
   "outputs": [],
   "source": [
    "dataset[\"Manufacture Date\"] = pd.to_datetime(dataset[\"Manufacture Date\"])"
   ]
  },
  {
   "cell_type": "markdown",
   "id": "14c90d5d-b688-4fc2-bd93-80be79ff5025",
   "metadata": {},
   "source": [
    "# Data science And Machine learning"
   ]
  },
  {
   "cell_type": "code",
   "execution_count": 212,
   "id": "283b02d8-9374-42c2-9d52-4c4c4c856a38",
   "metadata": {},
   "outputs": [
    {
     "data": {
      "text/html": [
       "<div>\n",
       "<style scoped>\n",
       "    .dataframe tbody tr th:only-of-type {\n",
       "        vertical-align: middle;\n",
       "    }\n",
       "\n",
       "    .dataframe tbody tr th {\n",
       "        vertical-align: top;\n",
       "    }\n",
       "\n",
       "    .dataframe thead th {\n",
       "        text-align: right;\n",
       "    }\n",
       "</style>\n",
       "<table border=\"1\" class=\"dataframe\">\n",
       "  <thead>\n",
       "    <tr style=\"text-align: right;\">\n",
       "      <th></th>\n",
       "      <th>No</th>\n",
       "      <th>car_name</th>\n",
       "      <th>car_prices_in_rupee</th>\n",
       "      <th>kms_driven</th>\n",
       "      <th>fuel_type</th>\n",
       "      <th>transmission</th>\n",
       "      <th>ownership</th>\n",
       "      <th>manufacture</th>\n",
       "      <th>engine</th>\n",
       "      <th>Seats</th>\n",
       "      <th>Manufacture Date</th>\n",
       "      <th>car_company_name</th>\n",
       "    </tr>\n",
       "  </thead>\n",
       "  <tbody>\n",
       "    <tr>\n",
       "      <th>0</th>\n",
       "      <td>0</td>\n",
       "      <td>Compass 2.0 Longitude Option BSIV</td>\n",
       "      <td>1003000.0</td>\n",
       "      <td>86226</td>\n",
       "      <td>Diesel</td>\n",
       "      <td>Manual</td>\n",
       "      <td>1st Owner</td>\n",
       "      <td>2017</td>\n",
       "      <td>1956</td>\n",
       "      <td>5</td>\n",
       "      <td>2017-07-23</td>\n",
       "      <td>Jeep</td>\n",
       "    </tr>\n",
       "    <tr>\n",
       "      <th>1</th>\n",
       "      <td>1</td>\n",
       "      <td>Duster RXZ Turbo CVT</td>\n",
       "      <td>1283000.0</td>\n",
       "      <td>13248</td>\n",
       "      <td>Petrol</td>\n",
       "      <td>Automatic</td>\n",
       "      <td>1st Owner</td>\n",
       "      <td>2021</td>\n",
       "      <td>1330</td>\n",
       "      <td>5</td>\n",
       "      <td>2021-03-03</td>\n",
       "      <td>Renault</td>\n",
       "    </tr>\n",
       "  </tbody>\n",
       "</table>\n",
       "</div>"
      ],
      "text/plain": [
       "   No                           car_name  car_prices_in_rupee  kms_driven  \\\n",
       "0   0  Compass 2.0 Longitude Option BSIV            1003000.0       86226   \n",
       "1   1               Duster RXZ Turbo CVT            1283000.0       13248   \n",
       "\n",
       "  fuel_type transmission  ownership  manufacture  engine  Seats  \\\n",
       "0    Diesel       Manual  1st Owner         2017    1956      5   \n",
       "1    Petrol    Automatic  1st Owner         2021    1330      5   \n",
       "\n",
       "  Manufacture Date car_company_name  \n",
       "0       2017-07-23             Jeep  \n",
       "1       2021-03-03          Renault  "
      ]
     },
     "execution_count": 212,
     "metadata": {},
     "output_type": "execute_result"
    }
   ],
   "source": [
    "dataset.head(2)"
   ]
  },
  {
   "cell_type": "code",
   "execution_count": 214,
   "id": "683b8558-f634-4751-9635-8b5f7d8c4e37",
   "metadata": {},
   "outputs": [],
   "source": [
    "#import some machine learning related data science\n",
    "from sklearn.preprocessing import LabelEncoder, StandardScaler"
   ]
  },
  {
   "cell_type": "markdown",
   "id": "7a553939-1630-459d-b2dd-44c6a3bf5924",
   "metadata": {},
   "source": [
    "# car_name"
   ]
  },
  {
   "cell_type": "code",
   "execution_count": 216,
   "id": "6161094c-3bd9-44e1-ab65-72c519cff14e",
   "metadata": {},
   "outputs": [
    {
     "data": {
      "text/plain": [
       "array([ 426,  509,  290, ..., 1713,   25,   13])"
      ]
     },
     "execution_count": 216,
     "metadata": {},
     "output_type": "execute_result"
    }
   ],
   "source": [
    "#convert into str to number ML\n",
    "car_name_en = LabelEncoder()\n",
    "car_name_en.fit_transform(dataset['car_name'])"
   ]
  },
  {
   "cell_type": "code",
   "execution_count": 218,
   "id": "09f701c9-a9a5-4f3e-a9d4-e77157b8978a",
   "metadata": {},
   "outputs": [],
   "source": [
    "#save in dataset\n",
    "dataset[\"car_name\"] = car_name_en.fit_transform(dataset['car_name'])"
   ]
  },
  {
   "cell_type": "markdown",
   "id": "09b60643-4d25-4863-911e-29670d519241",
   "metadata": {},
   "source": [
    "# fuel_type"
   ]
  },
  {
   "cell_type": "code",
   "execution_count": 220,
   "id": "55824a00-6a1b-4c13-bd23-0f1511118abe",
   "metadata": {},
   "outputs": [
    {
     "data": {
      "text/plain": [
       "array([1, 4, 4, ..., 1, 1, 1])"
      ]
     },
     "execution_count": 220,
     "metadata": {},
     "output_type": "execute_result"
    }
   ],
   "source": [
    "#convert into str to number ML\n",
    "fuel_type_en = LabelEncoder()\n",
    "fuel_type_en.fit_transform(dataset['fuel_type'])"
   ]
  },
  {
   "cell_type": "code",
   "execution_count": 222,
   "id": "017b78be-aaca-4815-bb07-4a5d3bbbdc50",
   "metadata": {},
   "outputs": [],
   "source": [
    "#save in dataset\n",
    "dataset[\"fuel_type\"] = fuel_type_en.fit_transform(dataset['fuel_type'])"
   ]
  },
  {
   "cell_type": "markdown",
   "id": "7c74dedc-1ab7-4300-ba01-73d7aaaf2203",
   "metadata": {},
   "source": [
    "# transmission"
   ]
  },
  {
   "cell_type": "code",
   "execution_count": 224,
   "id": "9a161602-699e-402e-a629-ddbb2c72c154",
   "metadata": {},
   "outputs": [
    {
     "data": {
      "text/plain": [
       "array([1, 0, 0, ..., 0, 0, 0])"
      ]
     },
     "execution_count": 224,
     "metadata": {},
     "output_type": "execute_result"
    }
   ],
   "source": [
    "#convert into str to number ML\n",
    "transmission_en = LabelEncoder()\n",
    "transmission_en.fit_transform(dataset['transmission'])"
   ]
  },
  {
   "cell_type": "code",
   "execution_count": 226,
   "id": "8633c6a4-f40b-48a0-bd6b-162700bd3e9c",
   "metadata": {},
   "outputs": [],
   "source": [
    "#save in dataset\n",
    "dataset[\"transmission\"] = fuel_type_en.fit_transform(dataset['transmission'])"
   ]
  },
  {
   "cell_type": "markdown",
   "id": "05ae321c-2dea-430c-9c2a-43ec0d497485",
   "metadata": {},
   "source": [
    "# ownership"
   ]
  },
  {
   "cell_type": "code",
   "execution_count": 228,
   "id": "187b229c-7274-4389-b4c9-f5a528c49176",
   "metadata": {},
   "outputs": [
    {
     "data": {
      "text/plain": [
       "array([1, 1, 1, ..., 2, 3, 2])"
      ]
     },
     "execution_count": 228,
     "metadata": {},
     "output_type": "execute_result"
    }
   ],
   "source": [
    "#convert into str to number ML\n",
    "ownership_en = LabelEncoder()\n",
    "ownership_en.fit_transform(dataset['ownership'])"
   ]
  },
  {
   "cell_type": "code",
   "execution_count": 230,
   "id": "65f50b1b-cb09-4179-a476-0695e0d5a455",
   "metadata": {},
   "outputs": [],
   "source": [
    "#save in dataset\n",
    "dataset[\"ownership\"] = fuel_type_en.fit_transform(dataset['ownership'])"
   ]
  },
  {
   "cell_type": "markdown",
   "id": "36ca749e-5f4e-4cea-af4c-819765826cca",
   "metadata": {},
   "source": [
    "# Manufacture Date"
   ]
  },
  {
   "cell_type": "code",
   "execution_count": 232,
   "id": "3c26cafd-fb70-48ff-872e-93481df0378e",
   "metadata": {},
   "outputs": [
    {
     "data": {
      "text/plain": [
       "0      2017-07-23\n",
       "1      2021-03-03\n",
       "2      2016-10-11\n",
       "3      2018-04-26\n",
       "4      2016-09-15\n",
       "          ...    \n",
       "5507   2018-02-26\n",
       "5508   2015-04-13\n",
       "5509   2013-12-12\n",
       "5510   2015-05-07\n",
       "5511   2017-05-15\n",
       "Name: Manufacture Date, Length: 5512, dtype: datetime64[ns]"
      ]
     },
     "execution_count": 232,
     "metadata": {},
     "output_type": "execute_result"
    }
   ],
   "source": [
    "dataset[\"Manufacture Date\"]"
   ]
  },
  {
   "cell_type": "code",
   "execution_count": 234,
   "id": "eb12366d-03b4-4424-bbee-b7b759241f93",
   "metadata": {},
   "outputs": [
    {
     "data": {
      "text/plain": [
       "0       2017\n",
       "1       2021\n",
       "2       2016\n",
       "3       2018\n",
       "4       2016\n",
       "        ... \n",
       "5507    2018\n",
       "5508    2015\n",
       "5509    2013\n",
       "5510    2015\n",
       "5511    2017\n",
       "Name: Manufacture Date, Length: 5512, dtype: int32"
      ]
     },
     "execution_count": 234,
     "metadata": {},
     "output_type": "execute_result"
    }
   ],
   "source": [
    "dataset[\"Manufacture Date\"].dt.year"
   ]
  },
  {
   "cell_type": "code",
   "execution_count": 236,
   "id": "a85814d5-5c6d-4eb0-969a-e6528f56f3d5",
   "metadata": {},
   "outputs": [],
   "source": [
    "dataset[\"Manufacture Year\"] = dataset[\"Manufacture Date\"].dt.year"
   ]
  },
  {
   "cell_type": "code",
   "execution_count": null,
   "id": "3b2dd436-f30f-4214-964e-57997c67b5f0",
   "metadata": {},
   "outputs": [],
   "source": [
    "#dataset.drop(columns=['Manufacture Date'],inplace=True)"
   ]
  },
  {
   "cell_type": "markdown",
   "id": "f88da2ad-8bf0-49f1-9c13-7b47a8879bab",
   "metadata": {},
   "source": [
    "# car_company_name"
   ]
  },
  {
   "cell_type": "code",
   "execution_count": 238,
   "id": "0f406d15-35d5-4d75-b087-b7c94c6aae02",
   "metadata": {},
   "outputs": [
    {
     "data": {
      "text/plain": [
       "array([12, 26, 29, ..., 11,  1,  1])"
      ]
     },
     "execution_count": 238,
     "metadata": {},
     "output_type": "execute_result"
    }
   ],
   "source": [
    "#convert into str to number ML\n",
    "car_company_name_en = LabelEncoder()\n",
    "car_company_name_en.fit_transform(dataset['car_company_name'])"
   ]
  },
  {
   "cell_type": "code",
   "execution_count": 240,
   "id": "5439a560-00c3-48b9-9d2c-7dc6a86a0962",
   "metadata": {},
   "outputs": [],
   "source": [
    "#save in dataset\n",
    "dataset[\"car_company_name\"] = fuel_type_en.fit_transform(dataset['car_company_name'])"
   ]
  },
  {
   "cell_type": "code",
   "execution_count": 242,
   "id": "be1dded4-2966-404e-8f91-41dc47699956",
   "metadata": {},
   "outputs": [
    {
     "data": {
      "text/html": [
       "<div>\n",
       "<style scoped>\n",
       "    .dataframe tbody tr th:only-of-type {\n",
       "        vertical-align: middle;\n",
       "    }\n",
       "\n",
       "    .dataframe tbody tr th {\n",
       "        vertical-align: top;\n",
       "    }\n",
       "\n",
       "    .dataframe thead th {\n",
       "        text-align: right;\n",
       "    }\n",
       "</style>\n",
       "<table border=\"1\" class=\"dataframe\">\n",
       "  <thead>\n",
       "    <tr style=\"text-align: right;\">\n",
       "      <th></th>\n",
       "      <th>No</th>\n",
       "      <th>car_name</th>\n",
       "      <th>car_prices_in_rupee</th>\n",
       "      <th>kms_driven</th>\n",
       "      <th>fuel_type</th>\n",
       "      <th>transmission</th>\n",
       "      <th>ownership</th>\n",
       "      <th>manufacture</th>\n",
       "      <th>engine</th>\n",
       "      <th>Seats</th>\n",
       "      <th>Manufacture Date</th>\n",
       "      <th>car_company_name</th>\n",
       "      <th>Manufacture Year</th>\n",
       "    </tr>\n",
       "  </thead>\n",
       "  <tbody>\n",
       "    <tr>\n",
       "      <th>0</th>\n",
       "      <td>0</td>\n",
       "      <td>426</td>\n",
       "      <td>1003000.0</td>\n",
       "      <td>86226</td>\n",
       "      <td>1</td>\n",
       "      <td>1</td>\n",
       "      <td>1</td>\n",
       "      <td>2017</td>\n",
       "      <td>1956</td>\n",
       "      <td>5</td>\n",
       "      <td>2017-07-23</td>\n",
       "      <td>12</td>\n",
       "      <td>2017</td>\n",
       "    </tr>\n",
       "    <tr>\n",
       "      <th>1</th>\n",
       "      <td>1</td>\n",
       "      <td>509</td>\n",
       "      <td>1283000.0</td>\n",
       "      <td>13248</td>\n",
       "      <td>4</td>\n",
       "      <td>0</td>\n",
       "      <td>1</td>\n",
       "      <td>2021</td>\n",
       "      <td>1330</td>\n",
       "      <td>5</td>\n",
       "      <td>2021-03-03</td>\n",
       "      <td>26</td>\n",
       "      <td>2021</td>\n",
       "    </tr>\n",
       "    <tr>\n",
       "      <th>2</th>\n",
       "      <td>2</td>\n",
       "      <td>290</td>\n",
       "      <td>1640000.0</td>\n",
       "      <td>60343</td>\n",
       "      <td>4</td>\n",
       "      <td>0</td>\n",
       "      <td>1</td>\n",
       "      <td>2016</td>\n",
       "      <td>2494</td>\n",
       "      <td>5</td>\n",
       "      <td>2016-10-11</td>\n",
       "      <td>29</td>\n",
       "      <td>2016</td>\n",
       "    </tr>\n",
       "  </tbody>\n",
       "</table>\n",
       "</div>"
      ],
      "text/plain": [
       "   No  car_name  car_prices_in_rupee  kms_driven  fuel_type  transmission  \\\n",
       "0   0       426            1003000.0       86226          1             1   \n",
       "1   1       509            1283000.0       13248          4             0   \n",
       "2   2       290            1640000.0       60343          4             0   \n",
       "\n",
       "   ownership  manufacture  engine  Seats Manufacture Date  car_company_name  \\\n",
       "0          1         2017    1956      5       2017-07-23                12   \n",
       "1          1         2021    1330      5       2021-03-03                26   \n",
       "2          1         2016    2494      5       2016-10-11                29   \n",
       "\n",
       "   Manufacture Year  \n",
       "0              2017  \n",
       "1              2021  \n",
       "2              2016  "
      ]
     },
     "execution_count": 242,
     "metadata": {},
     "output_type": "execute_result"
    }
   ],
   "source": [
    "dataset.head(3)"
   ]
  },
  {
   "cell_type": "code",
   "execution_count": 244,
   "id": "30afb1ba-2e45-494f-8e0c-a9f165121d5f",
   "metadata": {},
   "outputs": [
    {
     "data": {
      "image/png": "[encoded data removed]",
      "text/plain": [
       "<Figure size 640x480 with 1 Axes>"
      ]
     },
     "metadata": {},
     "output_type": "display_data"
    }
   ],
   "source": [
    "sns.boxplot(x = \"engine\" , data=dataset)\n",
    "plt.show()\n"
   ]
  },
  {
   "cell_type": "code",
   "execution_count": 262,
   "id": "9e56bfb5-b1f2-4dfc-97ec-610bf0cd439e",
   "metadata": {},
   "outputs": [
    {
     "data": {
      "text/plain": [
       "(5512, 13)"
      ]
     },
     "execution_count": 262,
     "metadata": {},
     "output_type": "execute_result"
    }
   ],
   "source": [
    "#check total records \n",
    "dataset.shape"
   ]
  },
  {
   "cell_type": "code",
   "execution_count": 248,
   "id": "43f80e75-99c6-4e29-bf46-2f42888a62e4",
   "metadata": {},
   "outputs": [],
   "source": [
    "#some value remove \n",
    "\n",
    "q1 = np.quantile(dataset['engine'],0.25)\n",
    "q3 = np.quantile(dataset['engine'],0.75)"
   ]
  },
  {
   "cell_type": "code",
   "execution_count": 250,
   "id": "ef4b0355-3e00-4432-94b7-fd60f6018fb5",
   "metadata": {},
   "outputs": [
    {
     "data": {
      "text/plain": [
       "(1197.0, 1950.0)"
      ]
     },
     "execution_count": 250,
     "metadata": {},
     "output_type": "execute_result"
    }
   ],
   "source": [
    "q1, q3"
   ]
  },
  {
   "cell_type": "code",
   "execution_count": 252,
   "id": "dc317a86-9d45-4e01-b468-629025e71f1e",
   "metadata": {},
   "outputs": [],
   "source": [
    "iqr = q3 -q1"
   ]
  },
  {
   "cell_type": "code",
   "execution_count": 254,
   "id": "b3030fc2-da10-40c5-9bb0-21f724698a38",
   "metadata": {},
   "outputs": [],
   "source": [
    "min_r = q1 - (1.5 * iqr)\n",
    "max_r = q3 + (1.5 * iqr)"
   ]
  },
  {
   "cell_type": "code",
   "execution_count": 258,
   "id": "7fdc323f-57ab-41ce-8ea7-62b801ecbb36",
   "metadata": {},
   "outputs": [
    {
     "data": {
      "text/plain": [
       "(67.5, 3079.5)"
      ]
     },
     "execution_count": 258,
     "metadata": {},
     "output_type": "execute_result"
    }
   ],
   "source": [
    "min_r , max_r"
   ]
  },
  {
   "cell_type": "code",
   "execution_count": 264,
   "id": "ce218710-9d21-48c2-bd07-1009316a4c95",
   "metadata": {},
   "outputs": [
    {
     "data": {
      "text/html": [
       "<div>\n",
       "<style scoped>\n",
       "    .dataframe tbody tr th:only-of-type {\n",
       "        vertical-align: middle;\n",
       "    }\n",
       "\n",
       "    .dataframe tbody tr th {\n",
       "        vertical-align: top;\n",
       "    }\n",
       "\n",
       "    .dataframe thead th {\n",
       "        text-align: right;\n",
       "    }\n",
       "</style>\n",
       "<table border=\"1\" class=\"dataframe\">\n",
       "  <thead>\n",
       "    <tr style=\"text-align: right;\">\n",
       "      <th></th>\n",
       "      <th>No</th>\n",
       "      <th>car_name</th>\n",
       "      <th>car_prices_in_rupee</th>\n",
       "      <th>kms_driven</th>\n",
       "      <th>fuel_type</th>\n",
       "      <th>transmission</th>\n",
       "      <th>ownership</th>\n",
       "      <th>manufacture</th>\n",
       "      <th>engine</th>\n",
       "      <th>Seats</th>\n",
       "      <th>Manufacture Date</th>\n",
       "      <th>car_company_name</th>\n",
       "      <th>Manufacture Year</th>\n",
       "    </tr>\n",
       "  </thead>\n",
       "  <tbody>\n",
       "    <tr>\n",
       "      <th>0</th>\n",
       "      <td>0</td>\n",
       "      <td>426</td>\n",
       "      <td>1003000.0</td>\n",
       "      <td>86226</td>\n",
       "      <td>1</td>\n",
       "      <td>1</td>\n",
       "      <td>1</td>\n",
       "      <td>2017</td>\n",
       "      <td>1956</td>\n",
       "      <td>5</td>\n",
       "      <td>2017-07-23</td>\n",
       "      <td>12</td>\n",
       "      <td>2017</td>\n",
       "    </tr>\n",
       "    <tr>\n",
       "      <th>1</th>\n",
       "      <td>1</td>\n",
       "      <td>509</td>\n",
       "      <td>1283000.0</td>\n",
       "      <td>13248</td>\n",
       "      <td>4</td>\n",
       "      <td>0</td>\n",
       "      <td>1</td>\n",
       "      <td>2021</td>\n",
       "      <td>1330</td>\n",
       "      <td>5</td>\n",
       "      <td>2021-03-03</td>\n",
       "      <td>26</td>\n",
       "      <td>2021</td>\n",
       "    </tr>\n",
       "    <tr>\n",
       "      <th>2</th>\n",
       "      <td>2</td>\n",
       "      <td>290</td>\n",
       "      <td>1640000.0</td>\n",
       "      <td>60343</td>\n",
       "      <td>4</td>\n",
       "      <td>0</td>\n",
       "      <td>1</td>\n",
       "      <td>2016</td>\n",
       "      <td>2494</td>\n",
       "      <td>5</td>\n",
       "      <td>2016-10-11</td>\n",
       "      <td>29</td>\n",
       "      <td>2016</td>\n",
       "    </tr>\n",
       "    <tr>\n",
       "      <th>3</th>\n",
       "      <td>3</td>\n",
       "      <td>912</td>\n",
       "      <td>777000.0</td>\n",
       "      <td>26696</td>\n",
       "      <td>4</td>\n",
       "      <td>0</td>\n",
       "      <td>1</td>\n",
       "      <td>2018</td>\n",
       "      <td>1199</td>\n",
       "      <td>5</td>\n",
       "      <td>2018-04-26</td>\n",
       "      <td>8</td>\n",
       "      <td>2018</td>\n",
       "    </tr>\n",
       "    <tr>\n",
       "      <th>4</th>\n",
       "      <td>4</td>\n",
       "      <td>1095</td>\n",
       "      <td>515000.0</td>\n",
       "      <td>69414</td>\n",
       "      <td>4</td>\n",
       "      <td>1</td>\n",
       "      <td>1</td>\n",
       "      <td>2016</td>\n",
       "      <td>1199</td>\n",
       "      <td>5</td>\n",
       "      <td>2016-09-15</td>\n",
       "      <td>30</td>\n",
       "      <td>2016</td>\n",
       "    </tr>\n",
       "    <tr>\n",
       "      <th>...</th>\n",
       "      <td>...</td>\n",
       "      <td>...</td>\n",
       "      <td>...</td>\n",
       "      <td>...</td>\n",
       "      <td>...</td>\n",
       "      <td>...</td>\n",
       "      <td>...</td>\n",
       "      <td>...</td>\n",
       "      <td>...</td>\n",
       "      <td>...</td>\n",
       "      <td>...</td>\n",
       "      <td>...</td>\n",
       "      <td>...</td>\n",
       "    </tr>\n",
       "    <tr>\n",
       "      <th>5507</th>\n",
       "      <td>5507</td>\n",
       "      <td>1681</td>\n",
       "      <td>2890000.0</td>\n",
       "      <td>45000</td>\n",
       "      <td>1</td>\n",
       "      <td>0</td>\n",
       "      <td>1</td>\n",
       "      <td>2018</td>\n",
       "      <td>2995</td>\n",
       "      <td>7</td>\n",
       "      <td>2018-02-26</td>\n",
       "      <td>1</td>\n",
       "      <td>2018</td>\n",
       "    </tr>\n",
       "    <tr>\n",
       "      <th>5508</th>\n",
       "      <td>5508</td>\n",
       "      <td>977</td>\n",
       "      <td>6490000.0</td>\n",
       "      <td>29000</td>\n",
       "      <td>4</td>\n",
       "      <td>0</td>\n",
       "      <td>2</td>\n",
       "      <td>2015</td>\n",
       "      <td>1968</td>\n",
       "      <td>5</td>\n",
       "      <td>2015-04-13</td>\n",
       "      <td>1</td>\n",
       "      <td>2015</td>\n",
       "    </tr>\n",
       "    <tr>\n",
       "      <th>5509</th>\n",
       "      <td>5509</td>\n",
       "      <td>1713</td>\n",
       "      <td>1375000.0</td>\n",
       "      <td>90000</td>\n",
       "      <td>1</td>\n",
       "      <td>0</td>\n",
       "      <td>2</td>\n",
       "      <td>2013</td>\n",
       "      <td>2755</td>\n",
       "      <td>5</td>\n",
       "      <td>2013-12-12</td>\n",
       "      <td>11</td>\n",
       "      <td>2013</td>\n",
       "    </tr>\n",
       "    <tr>\n",
       "      <th>5510</th>\n",
       "      <td>5510</td>\n",
       "      <td>25</td>\n",
       "      <td>2990000.0</td>\n",
       "      <td>79000</td>\n",
       "      <td>1</td>\n",
       "      <td>0</td>\n",
       "      <td>3</td>\n",
       "      <td>2015</td>\n",
       "      <td>2967</td>\n",
       "      <td>6</td>\n",
       "      <td>2015-05-07</td>\n",
       "      <td>1</td>\n",
       "      <td>2015</td>\n",
       "    </tr>\n",
       "    <tr>\n",
       "      <th>5511</th>\n",
       "      <td>5511</td>\n",
       "      <td>13</td>\n",
       "      <td>3190000.0</td>\n",
       "      <td>42000</td>\n",
       "      <td>1</td>\n",
       "      <td>0</td>\n",
       "      <td>2</td>\n",
       "      <td>2017</td>\n",
       "      <td>1991</td>\n",
       "      <td>5</td>\n",
       "      <td>2017-05-15</td>\n",
       "      <td>1</td>\n",
       "      <td>2017</td>\n",
       "    </tr>\n",
       "  </tbody>\n",
       "</table>\n",
       "<p>5458 rows × 13 columns</p>\n",
       "</div>"
      ],
      "text/plain": [
       "        No  car_name  car_prices_in_rupee  kms_driven  fuel_type  \\\n",
       "0        0       426            1003000.0       86226          1   \n",
       "1        1       509            1283000.0       13248          4   \n",
       "2        2       290            1640000.0       60343          4   \n",
       "3        3       912             777000.0       26696          4   \n",
       "4        4      1095             515000.0       69414          4   \n",
       "...    ...       ...                  ...         ...        ...   \n",
       "5507  5507      1681            2890000.0       45000          1   \n",
       "5508  5508       977            6490000.0       29000          4   \n",
       "5509  5509      1713            1375000.0       90000          1   \n",
       "5510  5510        25            2990000.0       79000          1   \n",
       "5511  5511        13            3190000.0       42000          1   \n",
       "\n",
       "      transmission  ownership  manufacture  engine  Seats Manufacture Date  \\\n",
       "0                1          1         2017    1956      5       2017-07-23   \n",
       "1                0          1         2021    1330      5       2021-03-03   \n",
       "2                0          1         2016    2494      5       2016-10-11   \n",
       "3                0          1         2018    1199      5       2018-04-26   \n",
       "4                1          1         2016    1199      5       2016-09-15   \n",
       "...            ...        ...          ...     ...    ...              ...   \n",
       "5507             0          1         2018    2995      7       2018-02-26   \n",
       "5508             0          2         2015    1968      5       2015-04-13   \n",
       "5509             0          2         2013    2755      5       2013-12-12   \n",
       "5510             0          3         2015    2967      6       2015-05-07   \n",
       "5511             0          2         2017    1991      5       2017-05-15   \n",
       "\n",
       "      car_company_name  Manufacture Year  \n",
       "0                   12              2017  \n",
       "1                   26              2021  \n",
       "2                   29              2016  \n",
       "3                    8              2018  \n",
       "4                   30              2016  \n",
       "...                ...               ...  \n",
       "5507                 1              2018  \n",
       "5508                 1              2015  \n",
       "5509                11              2013  \n",
       "5510                 1              2015  \n",
       "5511                 1              2017  \n",
       "\n",
       "[5458 rows x 13 columns]"
      ]
     },
     "execution_count": 264,
     "metadata": {},
     "output_type": "execute_result"
    }
   ],
   "source": [
    "dataset[dataset['engine']<= max_r]"
   ]
  },
  {
   "cell_type": "code",
   "execution_count": 266,
   "id": "96586b0b-8cb5-46d9-96d1-8793f2119dd3",
   "metadata": {},
   "outputs": [
    {
     "data": {
      "text/plain": [
       "(5512, 13)"
      ]
     },
     "execution_count": 266,
     "metadata": {},
     "output_type": "execute_result"
    }
   ],
   "source": [
    "#check total records \n",
    "dataset.shape"
   ]
  },
  {
   "cell_type": "code",
   "execution_count": 268,
   "id": "1a037173-9e9a-4d34-9622-a2944077d18e",
   "metadata": {},
   "outputs": [],
   "source": [
    "dataset = dataset[dataset['engine']<= max_r]"
   ]
  },
  {
   "cell_type": "code",
   "execution_count": 274,
   "id": "8fb4e1fb-3098-49c7-a600-e89581700f90",
   "metadata": {},
   "outputs": [],
   "source": [
    "#REMOVE MANUFACTURE DATE COLUMN\n",
    "dataset.drop(columns=['Manufacture Date'],inplace=True)"
   ]
  },
  {
   "cell_type": "code",
   "execution_count": 276,
   "id": "59a5b296-7d4b-4b7a-a234-592ff5164ab6",
   "metadata": {},
   "outputs": [
    {
     "data": {
      "text/html": [
       "<div>\n",
       "<style scoped>\n",
       "    .dataframe tbody tr th:only-of-type {\n",
       "        vertical-align: middle;\n",
       "    }\n",
       "\n",
       "    .dataframe tbody tr th {\n",
       "        vertical-align: top;\n",
       "    }\n",
       "\n",
       "    .dataframe thead th {\n",
       "        text-align: right;\n",
       "    }\n",
       "</style>\n",
       "<table border=\"1\" class=\"dataframe\">\n",
       "  <thead>\n",
       "    <tr style=\"text-align: right;\">\n",
       "      <th></th>\n",
       "      <th>No</th>\n",
       "      <th>car_name</th>\n",
       "      <th>car_prices_in_rupee</th>\n",
       "      <th>kms_driven</th>\n",
       "      <th>fuel_type</th>\n",
       "      <th>transmission</th>\n",
       "      <th>ownership</th>\n",
       "      <th>manufacture</th>\n",
       "      <th>engine</th>\n",
       "      <th>Seats</th>\n",
       "      <th>car_company_name</th>\n",
       "      <th>Manufacture Year</th>\n",
       "    </tr>\n",
       "  </thead>\n",
       "  <tbody>\n",
       "    <tr>\n",
       "      <th>0</th>\n",
       "      <td>0</td>\n",
       "      <td>426</td>\n",
       "      <td>1003000.0</td>\n",
       "      <td>86226</td>\n",
       "      <td>1</td>\n",
       "      <td>1</td>\n",
       "      <td>1</td>\n",
       "      <td>2017</td>\n",
       "      <td>1956</td>\n",
       "      <td>5</td>\n",
       "      <td>12</td>\n",
       "      <td>2017</td>\n",
       "    </tr>\n",
       "    <tr>\n",
       "      <th>1</th>\n",
       "      <td>1</td>\n",
       "      <td>509</td>\n",
       "      <td>1283000.0</td>\n",
       "      <td>13248</td>\n",
       "      <td>4</td>\n",
       "      <td>0</td>\n",
       "      <td>1</td>\n",
       "      <td>2021</td>\n",
       "      <td>1330</td>\n",
       "      <td>5</td>\n",
       "      <td>26</td>\n",
       "      <td>2021</td>\n",
       "    </tr>\n",
       "    <tr>\n",
       "      <th>2</th>\n",
       "      <td>2</td>\n",
       "      <td>290</td>\n",
       "      <td>1640000.0</td>\n",
       "      <td>60343</td>\n",
       "      <td>4</td>\n",
       "      <td>0</td>\n",
       "      <td>1</td>\n",
       "      <td>2016</td>\n",
       "      <td>2494</td>\n",
       "      <td>5</td>\n",
       "      <td>29</td>\n",
       "      <td>2016</td>\n",
       "    </tr>\n",
       "  </tbody>\n",
       "</table>\n",
       "</div>"
      ],
      "text/plain": [
       "   No  car_name  car_prices_in_rupee  kms_driven  fuel_type  transmission  \\\n",
       "0   0       426            1003000.0       86226          1             1   \n",
       "1   1       509            1283000.0       13248          4             0   \n",
       "2   2       290            1640000.0       60343          4             0   \n",
       "\n",
       "   ownership  manufacture  engine  Seats  car_company_name  Manufacture Year  \n",
       "0          1         2017    1956      5                12              2017  \n",
       "1          1         2021    1330      5                26              2021  \n",
       "2          1         2016    2494      5                29              2016  "
      ]
     },
     "execution_count": 276,
     "metadata": {},
     "output_type": "execute_result"
    }
   ],
   "source": [
    "dataset.head(3)"
   ]
  },
  {
   "cell_type": "code",
   "execution_count": 278,
   "id": "49fe9a05-5a4b-48c0-8faa-6d5c13a58c2c",
   "metadata": {},
   "outputs": [],
   "source": [
    "ss = StandardScaler()"
   ]
  },
  {
   "cell_type": "code",
   "execution_count": 280,
   "id": "ad899375-4890-438b-9b77-bcd492c37e30",
   "metadata": {},
   "outputs": [
    {
     "data": {
      "text/plain": [
       "array([[-1.73298632, -0.91507665, -0.07598624, ..., -0.34711834,\n",
       "        -0.42695023,  0.39440044],\n",
       "       [-1.73235735, -0.77165478,  0.06821993, ..., -0.34711834,\n",
       "         1.29764253,  1.41267744],\n",
       "       [-1.73172838, -1.15008114,  0.25208278, ..., -0.34711834,\n",
       "         1.66719812,  0.13983119],\n",
       "       ...,\n",
       "       [ 1.73200864,  1.30882619,  0.11560195, ..., -0.34711834,\n",
       "        -0.55013543, -0.62387657],\n",
       "       [ 1.73263761, -1.60799431,  0.94736249, ...,  1.05315652,\n",
       "        -1.7819874 , -0.11473806],\n",
       "       [ 1.73326658, -1.62873   ,  1.05036689, ..., -0.34711834,\n",
       "        -1.7819874 ,  0.39440044]])"
      ]
     },
     "execution_count": 280,
     "metadata": {},
     "output_type": "execute_result"
    }
   ],
   "source": [
    "ss.fit_transform(dataset)"
   ]
  },
  {
   "cell_type": "code",
   "execution_count": 284,
   "id": "d8865f92-4df0-40b3-adfd-655b8f9ba31d",
   "metadata": {},
   "outputs": [
    {
     "data": {
      "text/html": [
       "<div>\n",
       "<style scoped>\n",
       "    .dataframe tbody tr th:only-of-type {\n",
       "        vertical-align: middle;\n",
       "    }\n",
       "\n",
       "    .dataframe tbody tr th {\n",
       "        vertical-align: top;\n",
       "    }\n",
       "\n",
       "    .dataframe thead th {\n",
       "        text-align: right;\n",
       "    }\n",
       "</style>\n",
       "<table border=\"1\" class=\"dataframe\">\n",
       "  <thead>\n",
       "    <tr style=\"text-align: right;\">\n",
       "      <th></th>\n",
       "      <th>No</th>\n",
       "      <th>car_name</th>\n",
       "      <th>car_prices_in_rupee</th>\n",
       "      <th>kms_driven</th>\n",
       "      <th>fuel_type</th>\n",
       "      <th>transmission</th>\n",
       "      <th>ownership</th>\n",
       "      <th>manufacture</th>\n",
       "      <th>engine</th>\n",
       "      <th>Seats</th>\n",
       "      <th>car_company_name</th>\n",
       "      <th>Manufacture Year</th>\n",
       "    </tr>\n",
       "  </thead>\n",
       "  <tbody>\n",
       "    <tr>\n",
       "      <th>0</th>\n",
       "      <td>-1.732986</td>\n",
       "      <td>-0.915077</td>\n",
       "      <td>-0.075986</td>\n",
       "      <td>0.549894</td>\n",
       "      <td>-1.071915</td>\n",
       "      <td>0.621558</td>\n",
       "      <td>-0.599784</td>\n",
       "      <td>0.394400</td>\n",
       "      <td>0.875942</td>\n",
       "      <td>-0.347118</td>\n",
       "      <td>-0.426950</td>\n",
       "      <td>0.394400</td>\n",
       "    </tr>\n",
       "    <tr>\n",
       "      <th>1</th>\n",
       "      <td>-1.732357</td>\n",
       "      <td>-0.771655</td>\n",
       "      <td>0.068220</td>\n",
       "      <td>-1.195849</td>\n",
       "      <td>0.915801</td>\n",
       "      <td>-1.608859</td>\n",
       "      <td>-0.599784</td>\n",
       "      <td>1.412677</td>\n",
       "      <td>-0.342654</td>\n",
       "      <td>-0.347118</td>\n",
       "      <td>1.297643</td>\n",
       "      <td>1.412677</td>\n",
       "    </tr>\n",
       "    <tr>\n",
       "      <th>2</th>\n",
       "      <td>-1.731728</td>\n",
       "      <td>-1.150081</td>\n",
       "      <td>0.252083</td>\n",
       "      <td>-0.069266</td>\n",
       "      <td>0.915801</td>\n",
       "      <td>-1.608859</td>\n",
       "      <td>-0.599784</td>\n",
       "      <td>0.139831</td>\n",
       "      <td>1.923235</td>\n",
       "      <td>-0.347118</td>\n",
       "      <td>1.667198</td>\n",
       "      <td>0.139831</td>\n",
       "    </tr>\n",
       "    <tr>\n",
       "      <th>3</th>\n",
       "      <td>-1.731099</td>\n",
       "      <td>-0.075281</td>\n",
       "      <td>-0.192381</td>\n",
       "      <td>-0.874153</td>\n",
       "      <td>0.915801</td>\n",
       "      <td>-1.608859</td>\n",
       "      <td>-0.599784</td>\n",
       "      <td>0.648970</td>\n",
       "      <td>-0.597664</td>\n",
       "      <td>-0.347118</td>\n",
       "      <td>-0.919691</td>\n",
       "      <td>0.648970</td>\n",
       "    </tr>\n",
       "    <tr>\n",
       "      <th>4</th>\n",
       "      <td>-1.730470</td>\n",
       "      <td>0.240938</td>\n",
       "      <td>-0.327317</td>\n",
       "      <td>0.147726</td>\n",
       "      <td>0.915801</td>\n",
       "      <td>0.621558</td>\n",
       "      <td>-0.599784</td>\n",
       "      <td>0.139831</td>\n",
       "      <td>-0.597664</td>\n",
       "      <td>-0.347118</td>\n",
       "      <td>1.790383</td>\n",
       "      <td>0.139831</td>\n",
       "    </tr>\n",
       "    <tr>\n",
       "      <th>...</th>\n",
       "      <td>...</td>\n",
       "      <td>...</td>\n",
       "      <td>...</td>\n",
       "      <td>...</td>\n",
       "      <td>...</td>\n",
       "      <td>...</td>\n",
       "      <td>...</td>\n",
       "      <td>...</td>\n",
       "      <td>...</td>\n",
       "      <td>...</td>\n",
       "      <td>...</td>\n",
       "      <td>...</td>\n",
       "    </tr>\n",
       "    <tr>\n",
       "      <th>5453</th>\n",
       "      <td>1.730751</td>\n",
       "      <td>1.253531</td>\n",
       "      <td>0.895860</td>\n",
       "      <td>-0.436294</td>\n",
       "      <td>-1.071915</td>\n",
       "      <td>-1.608859</td>\n",
       "      <td>-0.599784</td>\n",
       "      <td>0.648970</td>\n",
       "      <td>2.898501</td>\n",
       "      <td>2.453431</td>\n",
       "      <td>-1.781987</td>\n",
       "      <td>0.648970</td>\n",
       "    </tr>\n",
       "    <tr>\n",
       "      <th>5454</th>\n",
       "      <td>1.731380</td>\n",
       "      <td>0.037037</td>\n",
       "      <td>2.749940</td>\n",
       "      <td>-0.819038</td>\n",
       "      <td>0.915801</td>\n",
       "      <td>-1.608859</td>\n",
       "      <td>0.821675</td>\n",
       "      <td>-0.114738</td>\n",
       "      <td>0.899302</td>\n",
       "      <td>-0.347118</td>\n",
       "      <td>-1.781987</td>\n",
       "      <td>-0.114738</td>\n",
       "    </tr>\n",
       "    <tr>\n",
       "      <th>5455</th>\n",
       "      <td>1.732009</td>\n",
       "      <td>1.308826</td>\n",
       "      <td>0.115602</td>\n",
       "      <td>0.640173</td>\n",
       "      <td>-1.071915</td>\n",
       "      <td>-1.608859</td>\n",
       "      <td>0.821675</td>\n",
       "      <td>-0.623877</td>\n",
       "      <td>2.431307</td>\n",
       "      <td>-0.347118</td>\n",
       "      <td>-0.550135</td>\n",
       "      <td>-0.623877</td>\n",
       "    </tr>\n",
       "    <tr>\n",
       "      <th>5456</th>\n",
       "      <td>1.732638</td>\n",
       "      <td>-1.607994</td>\n",
       "      <td>0.947362</td>\n",
       "      <td>0.377037</td>\n",
       "      <td>-1.071915</td>\n",
       "      <td>-1.608859</td>\n",
       "      <td>2.243134</td>\n",
       "      <td>-0.114738</td>\n",
       "      <td>2.843995</td>\n",
       "      <td>1.053157</td>\n",
       "      <td>-1.781987</td>\n",
       "      <td>-0.114738</td>\n",
       "    </tr>\n",
       "    <tr>\n",
       "      <th>5457</th>\n",
       "      <td>1.733267</td>\n",
       "      <td>-1.628730</td>\n",
       "      <td>1.050367</td>\n",
       "      <td>-0.508058</td>\n",
       "      <td>-1.071915</td>\n",
       "      <td>-1.608859</td>\n",
       "      <td>0.821675</td>\n",
       "      <td>0.394400</td>\n",
       "      <td>0.944075</td>\n",
       "      <td>-0.347118</td>\n",
       "      <td>-1.781987</td>\n",
       "      <td>0.394400</td>\n",
       "    </tr>\n",
       "  </tbody>\n",
       "</table>\n",
       "<p>5458 rows × 12 columns</p>\n",
       "</div>"
      ],
      "text/plain": [
       "            No  car_name  car_prices_in_rupee  kms_driven  fuel_type  \\\n",
       "0    -1.732986 -0.915077            -0.075986    0.549894  -1.071915   \n",
       "1    -1.732357 -0.771655             0.068220   -1.195849   0.915801   \n",
       "2    -1.731728 -1.150081             0.252083   -0.069266   0.915801   \n",
       "3    -1.731099 -0.075281            -0.192381   -0.874153   0.915801   \n",
       "4    -1.730470  0.240938            -0.327317    0.147726   0.915801   \n",
       "...        ...       ...                  ...         ...        ...   \n",
       "5453  1.730751  1.253531             0.895860   -0.436294  -1.071915   \n",
       "5454  1.731380  0.037037             2.749940   -0.819038   0.915801   \n",
       "5455  1.732009  1.308826             0.115602    0.640173  -1.071915   \n",
       "5456  1.732638 -1.607994             0.947362    0.377037  -1.071915   \n",
       "5457  1.733267 -1.628730             1.050367   -0.508058  -1.071915   \n",
       "\n",
       "      transmission  ownership  manufacture    engine     Seats  \\\n",
       "0         0.621558  -0.599784     0.394400  0.875942 -0.347118   \n",
       "1        -1.608859  -0.599784     1.412677 -0.342654 -0.347118   \n",
       "2        -1.608859  -0.599784     0.139831  1.923235 -0.347118   \n",
       "3        -1.608859  -0.599784     0.648970 -0.597664 -0.347118   \n",
       "4         0.621558  -0.599784     0.139831 -0.597664 -0.347118   \n",
       "...            ...        ...          ...       ...       ...   \n",
       "5453     -1.608859  -0.599784     0.648970  2.898501  2.453431   \n",
       "5454     -1.608859   0.821675    -0.114738  0.899302 -0.347118   \n",
       "5455     -1.608859   0.821675    -0.623877  2.431307 -0.347118   \n",
       "5456     -1.608859   2.243134    -0.114738  2.843995  1.053157   \n",
       "5457     -1.608859   0.821675     0.394400  0.944075 -0.347118   \n",
       "\n",
       "      car_company_name  Manufacture Year  \n",
       "0            -0.426950          0.394400  \n",
       "1             1.297643          1.412677  \n",
       "2             1.667198          0.139831  \n",
       "3            -0.919691          0.648970  \n",
       "4             1.790383          0.139831  \n",
       "...                ...               ...  \n",
       "5453         -1.781987          0.648970  \n",
       "5454         -1.781987         -0.114738  \n",
       "5455         -0.550135         -0.623877  \n",
       "5456         -1.781987         -0.114738  \n",
       "5457         -1.781987          0.394400  \n",
       "\n",
       "[5458 rows x 12 columns]"
      ]
     },
     "execution_count": 284,
     "metadata": {},
     "output_type": "execute_result"
    }
   ],
   "source": [
    "pd.DataFrame(ss.fit_transform(dataset),columns = dataset.columns)"
   ]
  },
  {
   "cell_type": "code",
   "execution_count": 286,
   "id": "182aefdb-58c2-439f-a878-50866e7a5c78",
   "metadata": {},
   "outputs": [],
   "source": [
    "New_data = pd.DataFrame(ss.fit_transform(dataset),columns = dataset.columns)"
   ]
  },
  {
   "cell_type": "code",
   "execution_count": 292,
   "id": "6ded524e-e059-4baa-a863-2ff01c1b0af1",
   "metadata": {},
   "outputs": [
    {
     "data": {
      "text/html": [
       "<div>\n",
       "<style scoped>\n",
       "    .dataframe tbody tr th:only-of-type {\n",
       "        vertical-align: middle;\n",
       "    }\n",
       "\n",
       "    .dataframe tbody tr th {\n",
       "        vertical-align: top;\n",
       "    }\n",
       "\n",
       "    .dataframe thead th {\n",
       "        text-align: right;\n",
       "    }\n",
       "</style>\n",
       "<table border=\"1\" class=\"dataframe\">\n",
       "  <thead>\n",
       "    <tr style=\"text-align: right;\">\n",
       "      <th></th>\n",
       "      <th>No</th>\n",
       "      <th>car_name</th>\n",
       "      <th>car_prices_in_rupee</th>\n",
       "      <th>kms_driven</th>\n",
       "      <th>fuel_type</th>\n",
       "      <th>transmission</th>\n",
       "      <th>ownership</th>\n",
       "      <th>manufacture</th>\n",
       "      <th>engine</th>\n",
       "      <th>Seats</th>\n",
       "      <th>car_company_name</th>\n",
       "      <th>Manufacture Year</th>\n",
       "    </tr>\n",
       "  </thead>\n",
       "  <tbody>\n",
       "    <tr>\n",
       "      <th>0</th>\n",
       "      <td>-1.732986</td>\n",
       "      <td>-0.915077</td>\n",
       "      <td>-0.075986</td>\n",
       "      <td>0.549894</td>\n",
       "      <td>-1.071915</td>\n",
       "      <td>0.621558</td>\n",
       "      <td>-0.599784</td>\n",
       "      <td>0.394400</td>\n",
       "      <td>0.875942</td>\n",
       "      <td>-0.347118</td>\n",
       "      <td>-0.426950</td>\n",
       "      <td>0.394400</td>\n",
       "    </tr>\n",
       "    <tr>\n",
       "      <th>1</th>\n",
       "      <td>-1.732357</td>\n",
       "      <td>-0.771655</td>\n",
       "      <td>0.068220</td>\n",
       "      <td>-1.195849</td>\n",
       "      <td>0.915801</td>\n",
       "      <td>-1.608859</td>\n",
       "      <td>-0.599784</td>\n",
       "      <td>1.412677</td>\n",
       "      <td>-0.342654</td>\n",
       "      <td>-0.347118</td>\n",
       "      <td>1.297643</td>\n",
       "      <td>1.412677</td>\n",
       "    </tr>\n",
       "    <tr>\n",
       "      <th>2</th>\n",
       "      <td>-1.731728</td>\n",
       "      <td>-1.150081</td>\n",
       "      <td>0.252083</td>\n",
       "      <td>-0.069266</td>\n",
       "      <td>0.915801</td>\n",
       "      <td>-1.608859</td>\n",
       "      <td>-0.599784</td>\n",
       "      <td>0.139831</td>\n",
       "      <td>1.923235</td>\n",
       "      <td>-0.347118</td>\n",
       "      <td>1.667198</td>\n",
       "      <td>0.139831</td>\n",
       "    </tr>\n",
       "    <tr>\n",
       "      <th>3</th>\n",
       "      <td>-1.731099</td>\n",
       "      <td>-0.075281</td>\n",
       "      <td>-0.192381</td>\n",
       "      <td>-0.874153</td>\n",
       "      <td>0.915801</td>\n",
       "      <td>-1.608859</td>\n",
       "      <td>-0.599784</td>\n",
       "      <td>0.648970</td>\n",
       "      <td>-0.597664</td>\n",
       "      <td>-0.347118</td>\n",
       "      <td>-0.919691</td>\n",
       "      <td>0.648970</td>\n",
       "    </tr>\n",
       "    <tr>\n",
       "      <th>4</th>\n",
       "      <td>-1.730470</td>\n",
       "      <td>0.240938</td>\n",
       "      <td>-0.327317</td>\n",
       "      <td>0.147726</td>\n",
       "      <td>0.915801</td>\n",
       "      <td>0.621558</td>\n",
       "      <td>-0.599784</td>\n",
       "      <td>0.139831</td>\n",
       "      <td>-0.597664</td>\n",
       "      <td>-0.347118</td>\n",
       "      <td>1.790383</td>\n",
       "      <td>0.139831</td>\n",
       "    </tr>\n",
       "  </tbody>\n",
       "</table>\n",
       "</div>"
      ],
      "text/plain": [
       "         No  car_name  car_prices_in_rupee  kms_driven  fuel_type  \\\n",
       "0 -1.732986 -0.915077            -0.075986    0.549894  -1.071915   \n",
       "1 -1.732357 -0.771655             0.068220   -1.195849   0.915801   \n",
       "2 -1.731728 -1.150081             0.252083   -0.069266   0.915801   \n",
       "3 -1.731099 -0.075281            -0.192381   -0.874153   0.915801   \n",
       "4 -1.730470  0.240938            -0.327317    0.147726   0.915801   \n",
       "\n",
       "   transmission  ownership  manufacture    engine     Seats  car_company_name  \\\n",
       "0      0.621558  -0.599784     0.394400  0.875942 -0.347118         -0.426950   \n",
       "1     -1.608859  -0.599784     1.412677 -0.342654 -0.347118          1.297643   \n",
       "2     -1.608859  -0.599784     0.139831  1.923235 -0.347118          1.667198   \n",
       "3     -1.608859  -0.599784     0.648970 -0.597664 -0.347118         -0.919691   \n",
       "4      0.621558  -0.599784     0.139831 -0.597664 -0.347118          1.790383   \n",
       "\n",
       "   Manufacture Year  \n",
       "0          0.394400  \n",
       "1          1.412677  \n",
       "2          0.139831  \n",
       "3          0.648970  \n",
       "4          0.139831  "
      ]
     },
     "execution_count": 292,
     "metadata": {},
     "output_type": "execute_result"
    }
   ],
   "source": [
    "New_data.head(5)"
   ]
  },
  {
   "cell_type": "code",
   "execution_count": null,
   "id": "3017a13b-5530-491f-96db-d5c23c42ea9c",
   "metadata": {},
   "outputs": [],
   "source": []
  }
 ],
 "metadata": {
  "kernelspec": {
   "display_name": "Python 3 (ipykernel)",
   "language": "python",
   "name": "python3"
  },
  "language_info": {
   "codemirror_mode": {
    "name": "ipython",
    "version": 3
   },
   "file_extension": ".py",
   "mimetype": "text/x-python",
   "name": "python",
   "nbconvert_exporter": "python",
   "pygments_lexer": "ipython3",
   "version": "3.12.4"
  }
 },
 "nbformat": 4,
 "nbformat_minor": 5
}
